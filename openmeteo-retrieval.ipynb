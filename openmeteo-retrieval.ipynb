{
 "cells": [
  {
   "cell_type": "markdown",
   "metadata": {},
   "source": [
    "gridifyから転載し修正。必須6項目をそのまま保存する。"
   ]
  },
  {
   "cell_type": "code",
   "execution_count": 1,
   "metadata": {},
   "outputs": [],
   "source": [
    "import pandas as pd\n",
    "import matplotlib.pyplot as plt\n",
    "import folium\n",
    "import numpy as np\n",
    "from andersan import tile\n",
    "import datetime\n",
    "import requests_cache\n",
    "from retry_requests import retry\n",
    "from logging import basicConfig, getLogger, INFO\n",
    "\n",
    "OPENMETEO_ITEMS = (\n",
    "    \"temperature_2m\",\n",
    "    \"weather_code\",\n",
    "    \"cloud_cover\",\n",
    "    \"wind_speed_10m\",\n",
    "    \"pressure_msl\",\n",
    "    \"shortwave_radiation\",\n",
    ")\n",
    "\n",
    "\n",
    "def openmeteo_tiles(start_isodate, end_isodate, XY, zoom):\n",
    "    logger = getLogger()\n",
    "    # Setup the cache and retry mechanism\n",
    "    # cache_session = requests_cache.CachedSession(\"airpollution\", expire_after=3600)\n",
    "    cache_session = requests_cache.CachedSession(\"airpollution\")\n",
    "    retry_session = retry(cache_session, retries=5, backoff_factor=0.2)\n",
    "\n",
    "    lonlats = tile.lonlat(zoom, xy=XY)\n",
    "    lons = lonlats[:, 0]\n",
    "    lats = lonlats[:, 1]\n",
    "    dts = datetime.datetime.fromisoformat(start_isodate)\n",
    "    dte = datetime.datetime.fromisoformat(end_isodate)\n",
    "    url = \"https://archive-api.open-meteo.com/v1/archive\"\n",
    "    params = {\n",
    "        \"latitude\": \",\".join([f\"{x:.4f}\" for x in lats]),\n",
    "        \"longitude\": \",\".join([f\"{x:.4f}\" for x in lons]),\n",
    "        \"hourly\": \",\".join(OPENMETEO_ITEMS),\n",
    "        \"start_date\": dts.strftime(\"%Y-%m-%d\"),\n",
    "        \"end_date\": dte.strftime(\"%Y-%m-%d\"),\n",
    "        \"timezone\": \"Asia/Tokyo\",\n",
    "    }\n",
    "    response = retry_session.get(url, params=params)\n",
    "    data = response.json()\n",
    "\n",
    "    logger.info(f\"{response.from_cache}, {response.status_code}\")\n",
    "    if response.from_cache:\n",
    "        return None\n",
    "    if response.status_code != 200:\n",
    "        return None\n",
    "\n",
    "    if type(data) == dict:\n",
    "        data = [data]\n",
    "\n",
    "    # データを格納するリスト\n",
    "    all_forecast_data = []\n",
    "\n",
    "    # 測定量、時刻、緯度経度の3次元の配列でいいか。\n",
    "    # dataの構造に沿って、まず緯度経度、物質量x時間で作表する。\n",
    "    for elem, lon, lat, (x, y) in zip(data, lons, lats, XY):\n",
    "        hourly_data = {\n",
    "            \"date\": pd.date_range(\n",
    "                start=pd.to_datetime(elem[\"hourly\"][\"time\"][0]),\n",
    "                periods=len(elem[\"hourly\"][\"time\"]),\n",
    "                freq=\"H\",\n",
    "                tz=\"Asia/Tokyo\",\n",
    "            ),\n",
    "            \"latitude\": lat,\n",
    "            \"longitude\": lon,\n",
    "        } | {item: elem[\"hourly\"][item] for item in OPENMETEO_ITEMS}\n",
    "        hourly_dataframe = pd.DataFrame(data=hourly_data)\n",
    "        hourly_dataframe[\"X\"] = x\n",
    "        hourly_dataframe[\"Y\"] = y\n",
    "        all_forecast_data.append(hourly_dataframe)\n",
    "\n",
    "    all_forecast_dataframe = pd.concat(all_forecast_data, ignore_index=True)\n",
    "    all_forecast_dataframe[\"ts\"] = (\n",
    "        all_forecast_dataframe[\"date\"].values.astype(np.int64) // 1000000000\n",
    "    )\n",
    "    all_forecast_dataframe = all_forecast_dataframe.set_index(\"ts\")\n",
    "    return all_forecast_dataframe\n",
    "\n",
    "\n",
    "basicConfig(level=INFO)\n",
    "\n",
    "zoom = 12  # 14にしてもOpenMeteoのほうがそこまで解像度がない。\n",
    "# 一旦範囲限定し、OpenMeteoの解像度を探る。\n",
    "# range_kanagawa = np.array([[139.0, 35.0], [139.4, 35.2]])  # lon,lat\n",
    "range_kanagawa = np.array([[138.94, 35.13], [139.84, 35.66]])  # lon,lat\n",
    "XY, shape = tile.tiles(zoom, range_kanagawa)"
   ]
  },
  {
   "cell_type": "code",
   "execution_count": null,
   "metadata": {},
   "outputs": [],
   "source": [
    "from pathlib import Path\n",
    "\n",
    "dir = f\"open-meteo-{zoom}\"\n",
    "Path(dir).mkdir(exist_ok=True)"
   ]
  },
  {
   "cell_type": "code",
   "execution_count": null,
   "metadata": {},
   "outputs": [],
   "source": [
    "import time\n",
    "\n",
    "\n",
    "logger = getLogger()\n",
    "for i in range(len(XY)):\n",
    "    xy = XY[i : i + 1, :]\n",
    "    logger.info(f\"start {dir}/{x}.{y}.{zoom}\")\n",
    "    df = openmeteo_tiles(\"2009-04-01\", \"2021-03-31\", XY=xy, zoom=zoom)\n",
    "    logger.info(\"finish\")\n",
    "    if df is not None:\n",
    "        x, y = xy[0]\n",
    "        df = df[(df.X == x) & (df.Y == y)]\n",
    "        df.to_feather(f\"{dir}/{x}.{y}.{zoom}.feather\")\n",
    "        time.sleep(10)"
   ]
  },
  {
   "cell_type": "code",
   "execution_count": null,
   "metadata": {},
   "outputs": [],
   "source": [
    "XY.shape"
   ]
  },
  {
   "cell_type": "code",
   "execution_count": null,
   "metadata": {},
   "outputs": [],
   "source": []
  }
 ],
 "metadata": {
  "kernelspec": {
   "display_name": ".venv",
   "language": "python",
   "name": "python3"
  },
  "language_info": {
   "codemirror_mode": {
    "name": "ipython",
    "version": 3
   },
   "file_extension": ".py",
   "mimetype": "text/x-python",
   "name": "python",
   "nbconvert_exporter": "python",
   "pygments_lexer": "ipython3",
   "version": "3.10.12"
  }
 },
 "nbformat": 4,
 "nbformat_minor": 2
}
